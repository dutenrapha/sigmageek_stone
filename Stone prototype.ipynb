{
 "cells": [
  {
   "cell_type": "code",
   "execution_count": 1,
   "id": "08a8ebb5",
   "metadata": {},
   "outputs": [
    {
     "name": "stdout",
     "output_type": "stream",
     "text": [
      "100000\n"
     ]
    }
   ],
   "source": [
    "import string\n",
    "import itertools\n",
    "import numpy as np\n",
    "import matplotlib.pyplot as plt\n",
    "from scipy.ndimage import convolve\n",
    "from tqdm import tqdm\n",
    "\n",
    "import sys\n",
    "sys.setrecursionlimit(100000)\n",
    "print(sys.getrecursionlimit())"
   ]
  },
  {
   "cell_type": "code",
   "execution_count": 2,
   "id": "4fb302a0",
   "metadata": {},
   "outputs": [],
   "source": [
    "kernel = [[1, 1, 1],\n",
    "          [1, 0, 1],\n",
    "          [1, 1, 1]]"
   ]
  },
  {
   "cell_type": "code",
   "execution_count": 3,
   "id": "700e7425",
   "metadata": {},
   "outputs": [],
   "source": [
    "M = np.zeros((7,8))\n",
    "M[1,4] = 1\n",
    "M[2,2] = 1\n",
    "M[2,4] = 1\n",
    "M[2,5] = 1\n",
    "M[3,1] = 1\n",
    "M[3,2] = 1\n",
    "M[3,5] = 1\n",
    "M[3,6] = 1\n",
    "M[4,2] = 1\n",
    "M[4,4] = 1\n",
    "M[4,5] = 1\n",
    "M[5,4] = 1"
   ]
  },
  {
   "cell_type": "code",
   "execution_count": 63,
   "id": "c5b60a50",
   "metadata": {},
   "outputs": [],
   "source": [
    "class Maze:\n",
    "  def __init__(self, initial_position, goal_postion, current_state):\n",
    "    self.initial_position = initial_position\n",
    "    self.goal_postion = goal_postion\n",
    "    self.current_state = current_state\n",
    "    self.update_num = 0\n",
    "    self.rows = len(self.current_state)\n",
    "    self.columns = len(self.current_state[0])\n",
    "    self.maze_matrix = np.zeros((self.rows * self.columns, self.rows * self.columns))\n",
    "    self.maze_labels = self._get_maze_labels()\n",
    "\n",
    "  def _get_alphbet(self):\n",
    "    alphabet = list(string.ascii_lowercase)\n",
    "    k = 1\n",
    "    temp = []\n",
    "    while len(temp) < self.rows * self.columns:\n",
    "      keywords = [''.join(i) for i in itertools.product(alphabet, repeat = k)]\n",
    "      temp.extend(keywords)\n",
    "      k += 1\n",
    "    temp = [temp[i:i+self.columns] for i in range(0,len(temp),self.columns)]\n",
    "    return(temp)\n",
    "\n",
    "  def _get_maze_labels(self):\n",
    "    LABELS = self._get_alphbet()\n",
    "    return(LABELS[:self.rows])\n",
    "  \n",
    "  def _update_rule(self, temp, M_sum, i, j, first=False):\n",
    "    if first:\n",
    "      if (M_sum[i][j] == 3) and self.current_state[i][j] == 0:\n",
    "        temp[i][j] = 1\n",
    "    else:\n",
    "      if (M_sum[i][j] == 3 or M_sum[i][j] == 2) and self.current_state[i][j] == 0:\n",
    "        temp[i][j] = 1\n",
    "    if (M_sum[i][j] >=4 and M_sum[i][j] < 7) and self.current_state[i][j] == 1:\n",
    "      temp[i][j] = 1\n",
    "\n",
    "  def update(self, first=False):\n",
    "    temp = np.zeros((self.rows,self.columns))\n",
    "    kernel = [[1, 1, 1],[1, 0, 1],[1, 1, 1]]\n",
    "    M_sum = convolve(self.current_state, kernel, mode='constant')\n",
    "    for i in range(self.rows):\n",
    "      for j in range(self.columns):\n",
    "        self._update_rule(temp,M_sum,i,j, first)\n",
    "    self.current_state = temp\n",
    "    self.current_state[self.rows - 1][self.columns - 1] = 0\n",
    "    self.current_state[0][0] = 0\n",
    "    self.update_num += 1\n",
    "\n",
    "  def _next_path(self,point):\n",
    "    temp = []\n",
    "    if point[0] - 1 >= 0:\n",
    "      if self.current_state[point[0] - 1][point[1]] != 1:\n",
    "        temp.append((point[0] - 1,point[1]))\n",
    "    if point[0] + 1 < self.rows:  \n",
    "      if self.current_state[point[0] + 1][point[1]] != 1:\n",
    "        temp.append((point[0] + 1,point[1]))\n",
    "    if point[1] - 1 >= 0:\n",
    "      if self.current_state[point[0]][point[1] - 1] != 1:\n",
    "        temp.append((point[0],point[1] - 1))\n",
    "    if point[1] + 1 < self.columns:\n",
    "      if self.current_state[point[0]][point[1] + 1] != 1:\n",
    "        temp.append((point[0],point[1] + 1))\n",
    "    return(temp)\n",
    "  \n",
    "  def create_maze(self):\n",
    "    ITER = 30\n",
    "    temp = [item for sublist in self.maze_labels for item in sublist]\n",
    "    i = 0\n",
    "    self.maze_dict = {}\n",
    "    for element in itertools.product(range(self.rows), range(self.columns)):\n",
    "        self.maze_dict[element] = (temp[i], i)\n",
    "        i+=1\n",
    "    rodadas = {}\n",
    "    for i in range(ITER):\n",
    "        rodadas[i] = []     \n",
    "    origin = [(0,0)]\n",
    "    self.update(first= True)\n",
    "    for i in range(ITER):\n",
    "        for p in origin:\n",
    "            rodadas[i].append((p, self._next_path(p)))\n",
    "        ter = set()    \n",
    "        for _ , kk in rodadas[i]:\n",
    "            for k in kk:\n",
    "                ter.add(k)\n",
    "        origin = list(ter)\n",
    "        self.update()\n",
    "    return(rodadas)\n",
    "\n",
    "  def solve(self):\n",
    "    pass\n",
    "\n",
    "  def print_state(self):\n",
    "    plt.matshow(self.current_state, cmap=plt.cm.Blues)\n",
    "\n",
    "  def print_maze(self):    \n",
    "    plt.matshow(self.maze_matrix, cmap=plt.cm.Blues)\n",
    "    "
   ]
  },
  {
   "cell_type": "code",
   "execution_count": 5,
   "id": "ff83ee05",
   "metadata": {},
   "outputs": [
    {
     "data": {
      "image/png": "[encoded data removed]",
      "text/plain": [
       "<Figure size 548.571x480 with 1 Axes>"
      ]
     },
     "metadata": {},
     "output_type": "display_data"
    }
   ],
   "source": [
    "maze = Maze(\"a\",\"bd\",M)\n",
    "maze.print_state()"
   ]
  },
  {
   "cell_type": "code",
   "execution_count": 64,
   "id": "83d9f448",
   "metadata": {},
   "outputs": [
    {
     "name": "stdout",
     "output_type": "stream",
     "text": [
      "(0, 5) found in 17\n",
      "(1, 5) found in 18\n",
      "(2, 5) found in 27\n",
      "(3, 5) found in 16\n",
      "(4, 5) found in 19\n",
      "(5, 5) found in 20\n",
      "(6, 5) found in 21\n",
      "(0, 6) found in 18\n",
      "(1, 6) found in 19\n",
      "(2, 6) found in 28\n",
      "(3, 6) found in 19\n",
      "(4, 6) found in 24\n",
      "(5, 6) found in 21\n",
      "(6, 6) found in 22\n",
      "(0, 7) found in 19\n",
      "(1, 7) found in 28\n",
      "(2, 7) found in 29\n",
      "(3, 7) found in 20\n",
      "(4, 7) found in 23\n",
      "(5, 7) found in 22\n",
      "(6, 7) found in 23\n"
     ]
    }
   ],
   "source": [
    "maze = Maze(\"a\",\"bd\",M)\n",
    "temp = maze.create_maze()\n",
    "\n",
    "\n",
    "def find(PATTERN):\n",
    "    chave = 0\n",
    "    for kk, vv in temp.items():\n",
    "        for k, _ in vv:\n",
    "            if k == PATTERN:\n",
    "                print(f\"{PATTERN} found in {kk}\")\n",
    "                chave = 1\n",
    "                break\n",
    "        if chave == 1:\n",
    "            break\n",
    "    if chave == 0:\n",
    "        print(f\"{PATTERN} not found\")\n",
    "for j in (5, 6, 7):\n",
    "    for i in range(7):\n",
    "        PATTERN = (i,j)\n",
    "        find(PATTERN)"
   ]
  },
  {
   "cell_type": "code",
   "execution_count": 65,
   "id": "7f5060a5",
   "metadata": {},
   "outputs": [
    {
     "data": {
      "text/plain": [
       "{0: [((0, 0), [(1, 0), (0, 1)])],\n",
       " 1: [((1, 0), [(0, 0), (2, 0), (1, 1)]), ((0, 1), [(1, 1), (0, 0), (0, 2)])],\n",
       " 2: [((0, 2), [(1, 2), (0, 1)]),\n",
       "  ((1, 1), [(0, 1), (2, 1), (1, 0), (1, 2)]),\n",
       "  ((2, 0), [(1, 0), (3, 0), (2, 1)]),\n",
       "  ((0, 0), [(1, 0), (0, 1)])],\n",
       " 3: [((0, 1), [(1, 1), (0, 0)]),\n",
       "  ((1, 2), [(1, 1)]),\n",
       "  ((2, 1), [(1, 1), (3, 1), (2, 0)]),\n",
       "  ((3, 0), [(2, 0), (4, 0), (3, 1)]),\n",
       "  ((1, 0), [(0, 0), (2, 0), (1, 1)])],\n",
       " 4: [((4, 0), [(3, 0), (5, 0)]),\n",
       "  ((0, 0), [(1, 0)]),\n",
       "  ((3, 1), [(3, 0), (3, 2)]),\n",
       "  ((1, 1), [(1, 0)]),\n",
       "  ((2, 0), [(1, 0), (3, 0)])],\n",
       " 5: [((1, 0), [(0, 0), (2, 0), (1, 1)]),\n",
       "  ((3, 2), [(2, 2), (4, 2), (3, 1), (3, 3)]),\n",
       "  ((5, 0), [(4, 0), (6, 0), (5, 1)]),\n",
       "  ((3, 0), [(2, 0), (4, 0), (3, 1)])],\n",
       " 6: [((4, 0), [(3, 0), (5, 0)]),\n",
       "  ((6, 0), [(5, 0)]),\n",
       "  ((0, 0), [(1, 0)]),\n",
       "  ((3, 1), [(3, 0), (3, 2)]),\n",
       "  ((1, 1), [(1, 0), (1, 2)]),\n",
       "  ((2, 0), [(1, 0), (3, 0)]),\n",
       "  ((5, 1), [(5, 0), (5, 2)]),\n",
       "  ((4, 2), [(3, 2), (5, 2), (4, 3)]),\n",
       "  ((3, 3), [(2, 3), (4, 3), (3, 2), (3, 4)]),\n",
       "  ((2, 2), [(1, 2), (3, 2), (2, 3)])],\n",
       " 7: [((1, 2), [(0, 2), (1, 1)]),\n",
       "  ((3, 4), []),\n",
       "  ((4, 3), []),\n",
       "  ((3, 0), [(3, 1)]),\n",
       "  ((2, 3), []),\n",
       "  ((5, 0), [(5, 1)]),\n",
       "  ((1, 0), [(0, 0), (1, 1)]),\n",
       "  ((3, 2), [(3, 1)]),\n",
       "  ((5, 2), [(6, 2), (5, 1)])],\n",
       " 8: [((6, 2), []),\n",
       "  ((0, 0), [(1, 0), (0, 1)]),\n",
       "  ((3, 1), [(2, 1), (4, 1), (3, 0)]),\n",
       "  ((1, 1), [(0, 1), (2, 1), (1, 0)]),\n",
       "  ((5, 1), [(4, 1), (5, 0)]),\n",
       "  ((0, 2), [(0, 1)])],\n",
       " 9: [((0, 1), [(1, 1), (0, 0)]),\n",
       "  ((2, 1), [(1, 1), (3, 1), (2, 0), (2, 2)]),\n",
       "  ((3, 0), [(2, 0), (4, 0), (3, 1)]),\n",
       "  ((5, 0), [(4, 0), (6, 0)]),\n",
       "  ((1, 0), [(0, 0), (2, 0), (1, 1)]),\n",
       "  ((4, 1), [(3, 1), (4, 0)])],\n",
       " 10: [((4, 0), [(4, 1)]),\n",
       "  ((6, 0), []),\n",
       "  ((0, 0), [(0, 1)]),\n",
       "  ((3, 1), [(2, 1), (4, 1)]),\n",
       "  ((1, 1), [(0, 1), (2, 1)]),\n",
       "  ((2, 0), [(2, 1)]),\n",
       "  ((2, 2), [(2, 1)])],\n",
       " 11: [((0, 1), [(1, 1), (0, 0)]),\n",
       "  ((4, 1), [(3, 1), (4, 0), (4, 2)]),\n",
       "  ((2, 1), [(1, 1), (3, 1), (2, 0), (2, 2)])],\n",
       " 12: [((4, 0), [(3, 0)]),\n",
       "  ((0, 0), [(1, 0), (0, 1)]),\n",
       "  ((3, 1), [(2, 1), (3, 0), (3, 2)]),\n",
       "  ((1, 1), [(0, 1), (2, 1), (1, 0)]),\n",
       "  ((2, 0), [(1, 0), (3, 0), (2, 1)]),\n",
       "  ((4, 2), [(3, 2), (5, 2)]),\n",
       "  ((2, 2), [(3, 2), (2, 1), (2, 3)])],\n",
       " 13: [((0, 1), [(1, 1), (0, 0), (0, 2)]),\n",
       "  ((2, 1), [(1, 1), (2, 0)]),\n",
       "  ((3, 0), [(2, 0)]),\n",
       "  ((2, 3), [(2, 4)]),\n",
       "  ((1, 0), [(0, 0), (2, 0), (1, 1)]),\n",
       "  ((3, 2), []),\n",
       "  ((5, 2), [(6, 2)])],\n",
       " 14: [((2, 4), [(3, 4), (2, 3)]),\n",
       "  ((6, 2), [(5, 2), (6, 3)]),\n",
       "  ((0, 0), [(0, 1)]),\n",
       "  ((1, 1), [(0, 1), (2, 1)]),\n",
       "  ((2, 0), [(2, 1)]),\n",
       "  ((0, 2), [(0, 1), (0, 3)])],\n",
       " 15: [((0, 1), [(1, 1), (0, 0), (0, 2)]),\n",
       "  ((3, 4), [(2, 4), (4, 4), (3, 5)]),\n",
       "  ((2, 1), [(1, 1), (2, 0), (2, 2)]),\n",
       "  ((0, 3), [(0, 2), (0, 4)]),\n",
       "  ((2, 3), [(2, 2), (2, 4)]),\n",
       "  ((6, 3), [(5, 3), (6, 2)]),\n",
       "  ((5, 2), [(4, 2), (6, 2), (5, 1), (5, 3)])],\n",
       " 16: [((4, 4), [(3, 4)]),\n",
       "  ((2, 4), [(1, 4), (3, 4), (2, 3)]),\n",
       "  ((6, 2), [(6, 1), (6, 3)]),\n",
       "  ((0, 4), [(1, 4), (0, 5)]),\n",
       "  ((0, 0), [(1, 0), (0, 1)]),\n",
       "  ((1, 1), [(0, 1), (1, 0)]),\n",
       "  ((2, 0), [(1, 0)]),\n",
       "  ((5, 1), [(6, 1)]),\n",
       "  ((4, 2), [(3, 2)]),\n",
       "  ((0, 2), [(0, 1)]),\n",
       "  ((2, 2), [(3, 2), (2, 3)]),\n",
       "  ((5, 3), [(6, 3)]),\n",
       "  ((3, 5), [(3, 4)])],\n",
       " 17: [((0, 1), [(0, 0), (0, 2)]),\n",
       "  ((3, 4), [(4, 4), (3, 3), (3, 5)]),\n",
       "  ((6, 1), [(5, 1)]),\n",
       "  ((1, 4), [(0, 4), (1, 3), (1, 5)]),\n",
       "  ((2, 3), [(1, 3), (3, 3)]),\n",
       "  ((0, 5), [(1, 5), (0, 4), (0, 6)]),\n",
       "  ((1, 0), [(0, 0)]),\n",
       "  ((3, 2), [(4, 2), (3, 3)]),\n",
       "  ((6, 3), [])],\n",
       " 18: [((4, 4), [(5, 4), (4, 5)]),\n",
       "  ((0, 4), [(0, 3), (0, 5)]),\n",
       "  ((0, 0), [(0, 1)]),\n",
       "  ((1, 5), [(0, 5), (1, 6)]),\n",
       "  ((5, 1), [(4, 1), (6, 1), (5, 2)]),\n",
       "  ((4, 2), [(3, 2), (5, 2), (4, 1)]),\n",
       "  ((0, 6), [(1, 6), (0, 5), (0, 7)]),\n",
       "  ((0, 2), [(0, 1), (0, 3)]),\n",
       "  ((3, 3), [(3, 2)]),\n",
       "  ((1, 3), [(0, 3)]),\n",
       "  ((3, 5), [(4, 5), (3, 6)])],\n",
       " 19: [((0, 1), [(0, 0), (0, 2)]),\n",
       "  ((0, 7), [(0, 6)]),\n",
       "  ((6, 1), [(6, 0), (6, 2)]),\n",
       "  ((5, 4), [(6, 4), (5, 5)]),\n",
       "  ((0, 3), [(0, 2)]),\n",
       "  ((4, 5), [(5, 5)]),\n",
       "  ((0, 5), [(0, 6)]),\n",
       "  ((3, 6), [(3, 7)]),\n",
       "  ((1, 6), [(0, 6)]),\n",
       "  ((3, 2), [(2, 2), (3, 1)]),\n",
       "  ((4, 1), [(3, 1), (4, 0)]),\n",
       "  ((5, 2), [(6, 2)])],\n",
       " 20: [((6, 2), [(6, 1)]),\n",
       "  ((5, 5), [(4, 5), (6, 5), (5, 4), (5, 6)]),\n",
       "  ((2, 2), [(1, 2)]),\n",
       "  ((4, 0), [(3, 0), (5, 0)]),\n",
       "  ((0, 0), [(0, 1)]),\n",
       "  ((3, 1), [(3, 0)]),\n",
       "  ((3, 7), [(3, 6)]),\n",
       "  ((6, 4), [(5, 4), (6, 5)]),\n",
       "  ((0, 6), [(1, 6), (0, 5), (0, 7)]),\n",
       "  ((0, 2), [(1, 2), (0, 1)]),\n",
       "  ((6, 0), [(5, 0), (6, 1)])],\n",
       " 21: [((0, 1), [(0, 0), (0, 2)]),\n",
       "  ((0, 7), [(0, 6)]),\n",
       "  ((1, 2), [(0, 2), (2, 2), (1, 3)]),\n",
       "  ((6, 5), [(6, 4), (6, 6)]),\n",
       "  ((6, 1), [(6, 0), (6, 2)]),\n",
       "  ((5, 4), [(4, 4), (6, 4), (5, 3)]),\n",
       "  ((3, 0), [(3, 1)]),\n",
       "  ((4, 5), [(4, 4)]),\n",
       "  ((5, 0), [(6, 0)]),\n",
       "  ((5, 6), [(6, 6), (5, 7)]),\n",
       "  ((0, 5), [(0, 4), (0, 6)]),\n",
       "  ((3, 6), [(3, 7)]),\n",
       "  ((1, 6), [(0, 6)])],\n",
       " 22: [((4, 4), [(5, 4), (4, 3)]),\n",
       "  ((6, 2), [(6, 1), (6, 3)]),\n",
       "  ((6, 0), [(6, 1)]),\n",
       "  ((0, 4), [(1, 4), (0, 3)]),\n",
       "  ((0, 0), [(0, 1)]),\n",
       "  ((3, 1), [(2, 1), (4, 1), (3, 0), (3, 2)]),\n",
       "  ((3, 7), [(4, 7), (3, 6)]),\n",
       "  ((5, 3), [(4, 3), (6, 3), (5, 4)]),\n",
       "  ((6, 4), [(5, 4), (6, 3)]),\n",
       "  ((5, 7), [(4, 7), (6, 7)]),\n",
       "  ((0, 6), [(1, 6), (0, 7)]),\n",
       "  ((0, 2), [(0, 1), (0, 3)]),\n",
       "  ((2, 2), [(3, 2), (2, 1)]),\n",
       "  ((6, 6), [(6, 7)]),\n",
       "  ((1, 3), [(0, 3), (1, 4)])],\n",
       " 23: [((0, 1), [(0, 0), (0, 2)]),\n",
       "  ((0, 7), [(0, 6)]),\n",
       "  ((2, 1), [(3, 1), (2, 0)]),\n",
       "  ((4, 3), [(5, 3), (4, 2)]),\n",
       "  ((6, 1), [(5, 1), (6, 0), (6, 2)]),\n",
       "  ((5, 4), [(6, 4), (5, 3), (5, 5)]),\n",
       "  ((0, 3), [(0, 2), (0, 4)]),\n",
       "  ((1, 4), [(0, 4), (2, 4), (1, 5)]),\n",
       "  ((3, 0), [(2, 0), (4, 0), (3, 1)]),\n",
       "  ((6, 7), [(5, 7)]),\n",
       "  ((3, 6), [(4, 6), (3, 7)]),\n",
       "  ((1, 6), [(0, 6), (1, 5)]),\n",
       "  ((3, 2), [(4, 2), (3, 1)]),\n",
       "  ((6, 3), [(5, 3), (6, 2), (6, 4)]),\n",
       "  ((4, 1), [(3, 1), (5, 1), (4, 0), (4, 2)]),\n",
       "  ((4, 7), [(3, 7), (5, 7), (4, 6)])],\n",
       " 24: [((4, 0), [(5, 0), (4, 1)]),\n",
       "  ((3, 1), [(2, 1), (4, 1)]),\n",
       "  ((3, 7), [(4, 7)]),\n",
       "  ((4, 6), [(4, 5), (4, 7)]),\n",
       "  ((5, 1), [(4, 1), (6, 1), (5, 0)]),\n",
       "  ((5, 7), [(4, 7), (6, 7)]),\n",
       "  ((0, 2), [(1, 2), (0, 1), (0, 3)]),\n",
       "  ((6, 2), [(6, 1), (6, 3)]),\n",
       "  ((4, 2), [(4, 1)]),\n",
       "  ((5, 3), [(6, 3), (5, 4)]),\n",
       "  ((2, 4), [(1, 4), (2, 3)]),\n",
       "  ((0, 4), [(1, 4), (0, 3), (0, 5)]),\n",
       "  ((1, 5), [(0, 5), (1, 4)]),\n",
       "  ((6, 4), [(5, 4), (6, 3)]),\n",
       "  ((5, 5), [(4, 5), (5, 4)]),\n",
       "  ((0, 0), [(0, 1)]),\n",
       "  ((2, 0), [(2, 1)]),\n",
       "  ((0, 6), [(0, 5), (0, 7)]),\n",
       "  ((6, 0), [(5, 0), (6, 1)])],\n",
       " 25: [((0, 1), [(1, 1), (0, 0), (0, 2)]),\n",
       "  ((0, 7), [(0, 6)]),\n",
       "  ((1, 2), [(0, 2), (2, 2), (1, 1)]),\n",
       "  ((2, 1), [(1, 1), (3, 1), (2, 0), (2, 2)]),\n",
       "  ((6, 1), [(5, 1), (6, 0), (6, 2)]),\n",
       "  ((5, 4), [(6, 4), (5, 3)]),\n",
       "  ((0, 3), [(0, 2), (0, 4)]),\n",
       "  ((1, 4), [(0, 4)]),\n",
       "  ((2, 3), [(2, 2)]),\n",
       "  ((6, 7), [(5, 7), (6, 6)]),\n",
       "  ((4, 5), [(3, 5)]),\n",
       "  ((5, 0), [(4, 0), (6, 0), (5, 1)]),\n",
       "  ((0, 5), [(0, 4), (0, 6)]),\n",
       "  ((6, 3), [(5, 3), (6, 2), (6, 4)]),\n",
       "  ((4, 1), [(3, 1), (5, 1), (4, 0), (4, 2)]),\n",
       "  ((4, 7), [(3, 7), (5, 7)])],\n",
       " 26: [((4, 0), [(3, 0), (5, 0), (4, 1)]),\n",
       "  ((3, 1), [(2, 1), (4, 1), (3, 0)]),\n",
       "  ((3, 7), [(3, 6)]),\n",
       "  ((5, 1), [(4, 1), (6, 1), (5, 0)]),\n",
       "  ((5, 7), [(6, 7), (5, 6)]),\n",
       "  ((0, 2), [(1, 2), (0, 1)]),\n",
       "  ((2, 2), [(1, 2), (2, 1), (2, 3)]),\n",
       "  ((6, 2), [(6, 1), (6, 3)]),\n",
       "  ((4, 2), [(4, 1), (4, 3)]),\n",
       "  ((5, 3), [(4, 3), (6, 3), (5, 4)]),\n",
       "  ((0, 4), [(0, 5)]),\n",
       "  ((6, 4), [(5, 4), (6, 3)]),\n",
       "  ((3, 5), [(2, 5), (4, 5), (3, 6)]),\n",
       "  ((0, 0), [(1, 0), (0, 1)]),\n",
       "  ((1, 1), [(0, 1), (2, 1), (1, 0), (1, 2)]),\n",
       "  ((2, 0), [(1, 0), (3, 0), (2, 1)]),\n",
       "  ((0, 6), [(0, 5), (0, 7)]),\n",
       "  ((6, 0), [(5, 0), (6, 1)]),\n",
       "  ((6, 6), [(5, 6), (6, 7)])],\n",
       " 27: [((4, 3), [(4, 4)]),\n",
       "  ((5, 4), [(4, 4), (6, 4), (5, 5)]),\n",
       "  ((0, 5), [(1, 5), (0, 4), (0, 6)]),\n",
       "  ((1, 0), [(0, 0), (2, 0), (1, 1)]),\n",
       "  ((2, 5), [(1, 5), (3, 5), (2, 4), (2, 6)]),\n",
       "  ((3, 0), [(2, 0), (4, 0)]),\n",
       "  ((4, 5), [(3, 5), (5, 5), (4, 4)]),\n",
       "  ((5, 0), [(4, 0), (6, 0)]),\n",
       "  ((5, 6), [(6, 6), (5, 5), (5, 7)]),\n",
       "  ((3, 6), [(2, 6), (3, 5), (3, 7)]),\n",
       "  ((0, 1), [(1, 1), (0, 0), (0, 2)]),\n",
       "  ((0, 7), [(1, 7), (0, 6)]),\n",
       "  ((1, 2), [(0, 2), (2, 2), (1, 1), (1, 3)]),\n",
       "  ((2, 1), [(1, 1), (2, 0), (2, 2)]),\n",
       "  ((6, 1), [(6, 0)]),\n",
       "  ((6, 7), [(5, 7), (6, 6)]),\n",
       "  ((4, 1), [(4, 0)]),\n",
       "  ((2, 3), [(1, 3), (2, 2), (2, 4)]),\n",
       "  ((6, 3), [(6, 4)])],\n",
       " 28: [((4, 0), [(4, 1)]),\n",
       "  ((3, 7), [(2, 7), (4, 7)]),\n",
       "  ((5, 7), [(4, 7), (6, 7)]),\n",
       "  ((0, 2), [(0, 1), (0, 3)]),\n",
       "  ((2, 2), [(3, 2), (2, 1), (2, 3)]),\n",
       "  ((1, 3), [(0, 3), (2, 3), (1, 4)]),\n",
       "  ((2, 4), [(1, 4), (2, 3), (2, 5)]),\n",
       "  ((0, 4), [(1, 4), (0, 3), (0, 5)]),\n",
       "  ((1, 5), [(0, 5), (2, 5), (1, 4), (1, 6)]),\n",
       "  ((6, 4), [(6, 3), (6, 5)]),\n",
       "  ((3, 5), [(2, 5), (4, 5)]),\n",
       "  ((4, 4), [(4, 5)]),\n",
       "  ((5, 5), [(4, 5), (6, 5)]),\n",
       "  ((0, 0), [(0, 1)]),\n",
       "  ((1, 1), [(0, 1), (2, 1)]),\n",
       "  ((2, 0), [(2, 1)]),\n",
       "  ((0, 6), [(1, 6), (0, 5), (0, 7)]),\n",
       "  ((1, 7), [(0, 7), (2, 7), (1, 6)]),\n",
       "  ((2, 6), [(1, 6), (2, 5), (2, 7)]),\n",
       "  ((6, 0), []),\n",
       "  ((6, 6), [(6, 5), (6, 7)])],\n",
       " 29: [((0, 1), [(0, 0)]),\n",
       "  ((0, 7), [(1, 7), (0, 6)]),\n",
       "  ((2, 1), [(3, 1), (2, 0), (2, 2)]),\n",
       "  ((2, 7), [(1, 7), (3, 7)]),\n",
       "  ((6, 5), [(6, 4)]),\n",
       "  ((0, 3), [(0, 4)]),\n",
       "  ((1, 4), [(0, 4), (1, 5)]),\n",
       "  ((2, 3), [(3, 3), (2, 2)]),\n",
       "  ((6, 7), [(5, 7)]),\n",
       "  ((4, 5), [(3, 5), (4, 6)]),\n",
       "  ((6, 3), [(5, 3), (6, 2), (6, 4)]),\n",
       "  ((0, 5), [(1, 5), (0, 4), (0, 6)]),\n",
       "  ((1, 6), [(0, 6), (1, 5), (1, 7)]),\n",
       "  ((3, 2), [(2, 2), (4, 2), (3, 1), (3, 3)]),\n",
       "  ((2, 5), [(1, 5), (3, 5)]),\n",
       "  ((4, 1), [(3, 1), (5, 1), (4, 0), (4, 2)]),\n",
       "  ((4, 7), [(3, 7), (5, 7), (4, 6)])]}"
      ]
     },
     "execution_count": 65,
     "metadata": {},
     "output_type": "execute_result"
    }
   ],
   "source": [
    "temp"
   ]
  },
  {
   "cell_type": "code",
   "execution_count": 29,
   "id": "60efa413",
   "metadata": {},
   "outputs": [],
   "source": [
    "maze = Maze(\"a\",\"bd\",M)\n",
    "# maze.print_all_maze()"
   ]
  },
  {
   "cell_type": "code",
   "execution_count": 51,
   "id": "14a25e9c",
   "metadata": {},
   "outputs": [
    {
     "data": {
      "text/plain": [
       "20"
      ]
     },
     "execution_count": 51,
     "metadata": {},
     "output_type": "execute_result"
    },
    {
     "data": {
      "image/png": "[encoded data removed]",
      "text/plain": [
       "<Figure size 548.571x480 with 1 Axes>"
      ]
     },
     "metadata": {},
     "output_type": "display_data"
    }
   ],
   "source": [
    "maze.update()\n",
    "maze.print_state()\n",
    "maze.update_num"
   ]
  },
  {
   "cell_type": "code",
   "execution_count": 52,
   "id": "7fb7920c",
   "metadata": {},
   "outputs": [
    {
     "data": {
      "text/plain": [
       "array([[2., 1., 3., 3., 4., 3., 3., 1.],\n",
       "       [3., 2., 4., 3., 6., 5., 5., 1.],\n",
       "       [1., 2., 4., 4., 8., 5., 4., 2.],\n",
       "       [1., 2., 3., 4., 5., 5., 4., 2.],\n",
       "       [1., 2., 3., 6., 5., 5., 2., 2.],\n",
       "       [1., 1., 3., 3., 3., 5., 4., 2.],\n",
       "       [1., 1., 2., 2., 3., 2., 2., 2.]])"
      ]
     },
     "execution_count": 52,
     "metadata": {},
     "output_type": "execute_result"
    }
   ],
   "source": [
    "kernel = [[1, 1, 1],[1, 0, 1],[1, 1, 1]]\n",
    "M_sum = convolve(maze.current_state, kernel, mode='constant')\n",
    "M_sum"
   ]
  },
  {
   "cell_type": "code",
   "execution_count": 53,
   "id": "a4ea9ffd",
   "metadata": {},
   "outputs": [
    {
     "data": {
      "text/plain": [
       "array([[0., 1., 0., 0., 1., 1., 0., 0.],\n",
       "       [0., 1., 0., 1., 1., 1., 0., 1.],\n",
       "       [1., 0., 0., 1., 0., 1., 1., 0.],\n",
       "       [0., 0., 0., 1., 1., 1., 0., 0.],\n",
       "       [0., 0., 1., 0., 1., 0., 1., 0.],\n",
       "       [0., 1., 0., 1., 1., 0., 0., 1.],\n",
       "       [0., 0., 0., 0., 0., 1., 1., 0.]])"
      ]
     },
     "execution_count": 53,
     "metadata": {},
     "output_type": "execute_result"
    }
   ],
   "source": [
    "maze.current_state"
   ]
  },
  {
   "cell_type": "code",
   "execution_count": 54,
   "id": "055f30da",
   "metadata": {},
   "outputs": [
    {
     "data": {
      "text/plain": [
       "21"
      ]
     },
     "execution_count": 54,
     "metadata": {},
     "output_type": "execute_result"
    },
    {
     "data": {
      "image/png": "[encoded data removed]",
      "text/plain": [
       "<Figure size 548.571x480 with 1 Axes>"
      ]
     },
     "metadata": {},
     "output_type": "display_data"
    }
   ],
   "source": [
    "maze.update()\n",
    "maze.print_state()\n",
    "maze.update_num"
   ]
  },
  {
   "cell_type": "code",
   "execution_count": 55,
   "id": "089c89de",
   "metadata": {},
   "outputs": [
    {
     "data": {
      "text/plain": [
       "22"
      ]
     },
     "execution_count": 55,
     "metadata": {},
     "output_type": "execute_result"
    },
    {
     "data": {
      "image/png": "[encoded data removed]",
      "text/plain": [
       "<Figure size 548.571x480 with 1 Axes>"
      ]
     },
     "metadata": {},
     "output_type": "display_data"
    }
   ],
   "source": [
    "maze.update()\n",
    "maze.print_state()\n",
    "maze.update_num"
   ]
  },
  {
   "cell_type": "code",
   "execution_count": 56,
   "id": "4d03791e",
   "metadata": {},
   "outputs": [
    {
     "data": {
      "text/plain": [
       "23"
      ]
     },
     "execution_count": 56,
     "metadata": {},
     "output_type": "execute_result"
    },
    {
     "data": {
      "image/png": "[encoded data removed]",
      "text/plain": [
       "<Figure size 548.571x480 with 1 Axes>"
      ]
     },
     "metadata": {},
     "output_type": "display_data"
    }
   ],
   "source": [
    "maze.update()\n",
    "maze.print_state()\n",
    "maze.update_num"
   ]
  }
 ],
 "metadata": {
  "kernelspec": {
   "display_name": "Python 3 (ipykernel)",
   "language": "python",
   "name": "python3"
  },
  "language_info": {
   "codemirror_mode": {
    "name": "ipython",
    "version": 3
   },
   "file_extension": ".py",
   "mimetype": "text/x-python",
   "name": "python",
   "nbconvert_exporter": "python",
   "pygments_lexer": "ipython3",
   "version": "3.8.9"
  }
 },
 "nbformat": 4,
 "nbformat_minor": 5
}
